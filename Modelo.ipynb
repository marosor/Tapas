{
 "cells": [
  {
   "cell_type": "code",
   "execution_count": 67,
   "metadata": {},
   "outputs": [],
   "source": [
    "# Librerías básicas\n",
    "\n",
    "import pandas as pd\n",
    "import pickle\n",
    "import pandas as pd\n",
    "import numpy as np\n",
    "import yaml\n",
    "import os\n",
    "import pickle\n",
    "\n",
    "# Librerías Machine Learning \n",
    "from sklearn.ensemble import GradientBoostingClassifier, RandomForestClassifier\n",
    "from sklearn.neighbors import KNeighborsClassifier\n",
    "from sklearn.tree import DecisionTreeClassifier\n",
    "from sklearn.model_selection import cross_val_score\n",
    "from sklearn.neighbors import KNeighborsClassifier\n",
    "from sklearn.tree import DecisionTreeClassifier\n",
    "\n",
    "# Librerías Model Selection y evaluación\n",
    "from scipy import stats\n",
    "from sklearn.model_selection import train_test_split, cross_val_score, GridSearchCV\n",
    "from sklearn.metrics import classification_report, ConfusionMatrixDisplay\n",
    "\n",
    "# Librerías features transformación \n",
    "from sklearn.preprocessing import MinMaxScaler, LabelEncoder, StandardScaler\n",
    "from sklearn.feature_selection import SelectFromModel"
   ]
  },
  {
   "cell_type": "code",
   "execution_count": 50,
   "metadata": {},
   "outputs": [
    {
     "name": "stdout",
     "output_type": "stream",
     "text": [
      "   Año de nacimiento  Comunidad  Género  Bebida  Tapa\n",
      "0               1944          3       2       4     5\n",
      "1               1995          9       1       1    12\n",
      "2               1940          1       2       2     9\n",
      "3               1972          8       1       2    14\n",
      "4               1936         11       2       6     3\n"
     ]
    }
   ],
   "source": [
    "# Ruta del archivo CSV\n",
    "ruta_archivo = 'datos/df_desordenado.csv'\n",
    "\n",
    "# Leer el archivo CSV\n",
    "df = pd.read_csv(ruta_archivo)\n",
    "\n",
    "# Mostrar las primeras filas del DataFrame\n",
    "print(df.head())"
   ]
  },
  {
   "cell_type": "code",
   "execution_count": 32,
   "metadata": {},
   "outputs": [],
   "source": [
    "# Reemplazar un nombre de columna específico\n",
    "df.columns = df.columns.str.replace('Año de nacimiento', 'Año_de_nacimiento')"
   ]
  },
  {
   "cell_type": "code",
   "execution_count": 34,
   "metadata": {},
   "outputs": [
    {
     "name": "stdout",
     "output_type": "stream",
     "text": [
      "<class 'pandas.core.frame.DataFrame'>\n",
      "Index: 805 entries, 29 to 102\n",
      "Data columns (total 5 columns):\n",
      " #   Column             Non-Null Count  Dtype\n",
      "---  ------             --------------  -----\n",
      " 0   Año_de_nacimiento  805 non-null    int64\n",
      " 1   Comunidad          805 non-null    int64\n",
      " 2   Género             805 non-null    int64\n",
      " 3   Bebida             805 non-null    int64\n",
      " 4   Tapa               805 non-null    int64\n",
      "dtypes: int64(5)\n",
      "memory usage: 37.7 KB\n"
     ]
    }
   ],
   "source": [
    "# Train test split\n",
    "train_set, test_set = train_test_split(df, test_size=0.2, random_state=42)\n",
    "train_set.info()"
   ]
  },
  {
   "cell_type": "code",
   "execution_count": 35,
   "metadata": {},
   "outputs": [],
   "source": [
    "# Target\n",
    "target = 'Tapa'"
   ]
  },
  {
   "cell_type": "code",
   "execution_count": 36,
   "metadata": {},
   "outputs": [],
   "source": [
    "# Features\n",
    "features = ['Año_de_nacimiento','Comunidad','Género','Bebida']"
   ]
  },
  {
   "cell_type": "code",
   "execution_count": 37,
   "metadata": {},
   "outputs": [
    {
     "name": "stdout",
     "output_type": "stream",
     "text": [
      "     Año_de_nacimiento  Comunidad  Género  Bebida  Tapa\n",
      "29                  16         13       1       3     8\n",
      "280                 48         16       0       0     3\n",
      "507                 26          9       0       0     8\n",
      "652                  6          6       0       4     9\n",
      "947                  8         18       1       3     2\n"
     ]
    }
   ],
   "source": [
    "# Aplicar LabelEncoder a features categoricas\n",
    "train_set_encoded = train_set.copy()\n",
    "test_set_encoded = test_set.copy()\n",
    "\n",
    "\n",
    "for feature in features:\n",
    "    all_values = pd.concat([train_set[feature], test_set[feature]], axis=0).unique()\n",
    "    label_encoder = LabelEncoder()\n",
    "    label_encoder.fit(all_values)\n",
    "    train_set_encoded[feature] = label_encoder.transform(train_set[feature])\n",
    "    test_set_encoded[feature] = label_encoder.transform(test_set[feature])\n",
    "\n",
    "\n",
    "# Mostrar los DataFrames codificados\n",
    "print(train_set_encoded.head())\n",
    "# print(test_set_encoded.head())"
   ]
  },
  {
   "cell_type": "code",
   "execution_count": 38,
   "metadata": {},
   "outputs": [],
   "source": [
    "# x y train/test\n",
    "X_train = train_set_encoded.drop(columns=['Tapa'])\n",
    "y_train = train_set_encoded['Tapa']\n",
    "X_test = test_set_encoded.drop(columns=['Tapa'])\n",
    "y_test = test_set_encoded['Tapa']"
   ]
  },
  {
   "cell_type": "code",
   "execution_count": 56,
   "metadata": {},
   "outputs": [],
   "source": [
    "# Definir los modelos\n",
    "modelos = {\n",
    "    \"Gradient Boosting\": GradientBoostingClassifier(random_state=42),\n",
    "    \"Random Forest\": RandomForestClassifier(random_state=42),\n",
    "    \"KNN\": KNeighborsClassifier(n_neighbors=5),\n",
    "    \"Decision Tree Classifier\": DecisionTreeClassifier(max_depth=10, random_state=42)\n",
    "}\n",
    "\n",
    "# Definir los hiperparámetros para cada modelo\n",
    "parametros = {\n",
    "    \"Gradient Boosting\": {\n",
    "        'max_depth': [3,5,10],\n",
    "        'n_estimators': [10,50, 100]\n",
    "    },\n",
    "    \"Random Forest\": {\n",
    "        'max_depth': [3,5,10],\n",
    "        'n_estimators': [150, 200]\n",
    "    },\n",
    "    \"KNN\": {\n",
    "        'n_neighbors': [3, 5, 7]\n",
    "    },\n",
    "    \"Decision Tree Classifier\": {\n",
    "        'max_depth': [10, 15, 20],\n",
    "        'min_samples_split': [1, 2, 5]\n",
    "    }\n",
    "}"
   ]
  },
  {
   "cell_type": "code",
   "execution_count": 57,
   "metadata": {},
   "outputs": [
    {
     "name": "stdout",
     "output_type": "stream",
     "text": [
      "Gradient Boosting:  "
     ]
    },
    {
     "name": "stderr",
     "output_type": "stream",
     "text": [
      "c:\\Users\\mfm-8\\AppData\\Local\\Programs\\Python\\Python310\\lib\\site-packages\\sklearn\\model_selection\\_split.py:776: UserWarning: The least populated class in y has only 1 members, which is less than n_splits=3.\n",
      "  warnings.warn(\n"
     ]
    },
    {
     "name": "stdout",
     "output_type": "stream",
     "text": [
      "0.66\n",
      "Random Forest:  "
     ]
    },
    {
     "name": "stderr",
     "output_type": "stream",
     "text": [
      "c:\\Users\\mfm-8\\AppData\\Local\\Programs\\Python\\Python310\\lib\\site-packages\\sklearn\\model_selection\\_split.py:776: UserWarning: The least populated class in y has only 1 members, which is less than n_splits=3.\n",
      "  warnings.warn(\n",
      "c:\\Users\\mfm-8\\AppData\\Local\\Programs\\Python\\Python310\\lib\\site-packages\\sklearn\\metrics\\_classification.py:2466: UserWarning: y_pred contains classes not in y_true\n",
      "  warnings.warn(\"y_pred contains classes not in y_true\")\n"
     ]
    },
    {
     "name": "stdout",
     "output_type": "stream",
     "text": [
      "0.66\n",
      "KNN:  0.3\n",
      "Decision Tree Classifier:  0.64\n",
      "******\n"
     ]
    },
    {
     "name": "stderr",
     "output_type": "stream",
     "text": [
      "c:\\Users\\mfm-8\\AppData\\Local\\Programs\\Python\\Python310\\lib\\site-packages\\sklearn\\model_selection\\_split.py:776: UserWarning: The least populated class in y has only 1 members, which is less than n_splits=3.\n",
      "  warnings.warn(\n",
      "c:\\Users\\mfm-8\\AppData\\Local\\Programs\\Python\\Python310\\lib\\site-packages\\sklearn\\metrics\\_classification.py:2466: UserWarning: y_pred contains classes not in y_true\n",
      "  warnings.warn(\"y_pred contains classes not in y_true\")\n",
      "c:\\Users\\mfm-8\\AppData\\Local\\Programs\\Python\\Python310\\lib\\site-packages\\sklearn\\model_selection\\_split.py:776: UserWarning: The least populated class in y has only 1 members, which is less than n_splits=3.\n",
      "  warnings.warn(\n"
     ]
    }
   ],
   "source": [
    "# Realizar validación cruzada y calcular balanced_accuracy\n",
    "for tipo, modelo in modelos.items():\n",
    "    print(f\"{tipo}: \", end=\" \")\n",
    "    scores = cross_val_score(modelo, X_train, y_train, cv=3, scoring=\"balanced_accuracy\")\n",
    "    print(np.mean(scores).round(2))\n",
    "print(\"******\")"
   ]
  },
  {
   "cell_type": "code",
   "execution_count": 58,
   "metadata": {},
   "outputs": [
    {
     "name": "stdout",
     "output_type": "stream",
     "text": [
      "Entrenando modelo: Gradient Boosting\n"
     ]
    },
    {
     "name": "stderr",
     "output_type": "stream",
     "text": [
      "c:\\Users\\mfm-8\\AppData\\Local\\Programs\\Python\\Python310\\lib\\site-packages\\sklearn\\model_selection\\_split.py:776: UserWarning: The least populated class in y has only 1 members, which is less than n_splits=3.\n",
      "  warnings.warn(\n"
     ]
    },
    {
     "name": "stdout",
     "output_type": "stream",
     "text": [
      "Mejores parámetros para Gradient Boosting: {'max_depth': 5, 'n_estimators': 50}\n",
      "Mejor score para Gradient Boosting: 0.5444078396433525\n",
      "Entrenando modelo: Random Forest\n"
     ]
    },
    {
     "name": "stderr",
     "output_type": "stream",
     "text": [
      "c:\\Users\\mfm-8\\AppData\\Local\\Programs\\Python\\Python310\\lib\\site-packages\\sklearn\\model_selection\\_split.py:776: UserWarning: The least populated class in y has only 1 members, which is less than n_splits=3.\n",
      "  warnings.warn(\n"
     ]
    },
    {
     "name": "stdout",
     "output_type": "stream",
     "text": [
      "Mejores parámetros para Random Forest: {'max_depth': 10, 'n_estimators': 200}\n",
      "Mejor score para Random Forest: 0.4691508674945413\n",
      "Entrenando modelo: KNN\n",
      "Mejores parámetros para KNN: {'n_neighbors': 5}\n",
      "Mejor score para KNN: -0.27245835408164126\n",
      "Entrenando modelo: Decision Tree Classifier\n"
     ]
    },
    {
     "name": "stderr",
     "output_type": "stream",
     "text": [
      "c:\\Users\\mfm-8\\AppData\\Local\\Programs\\Python\\Python310\\lib\\site-packages\\sklearn\\model_selection\\_split.py:776: UserWarning: The least populated class in y has only 1 members, which is less than n_splits=3.\n",
      "  warnings.warn(\n",
      "c:\\Users\\mfm-8\\AppData\\Local\\Programs\\Python\\Python310\\lib\\site-packages\\sklearn\\model_selection\\_split.py:776: UserWarning: The least populated class in y has only 1 members, which is less than n_splits=3.\n",
      "  warnings.warn(\n",
      "c:\\Users\\mfm-8\\AppData\\Local\\Programs\\Python\\Python310\\lib\\site-packages\\sklearn\\model_selection\\_validation.py:540: FitFailedWarning: \n",
      "9 fits failed out of a total of 27.\n",
      "The score on these train-test partitions for these parameters will be set to nan.\n",
      "If these failures are not expected, you can try to debug them by setting error_score='raise'.\n",
      "\n",
      "Below are more details about the failures:\n",
      "--------------------------------------------------------------------------------\n",
      "9 fits failed with the following error:\n",
      "Traceback (most recent call last):\n",
      "  File \"c:\\Users\\mfm-8\\AppData\\Local\\Programs\\Python\\Python310\\lib\\site-packages\\sklearn\\model_selection\\_validation.py\", line 888, in _fit_and_score\n",
      "    estimator.fit(X_train, y_train, **fit_params)\n",
      "  File \"c:\\Users\\mfm-8\\AppData\\Local\\Programs\\Python\\Python310\\lib\\site-packages\\sklearn\\base.py\", line 1466, in wrapper\n",
      "    estimator._validate_params()\n",
      "  File \"c:\\Users\\mfm-8\\AppData\\Local\\Programs\\Python\\Python310\\lib\\site-packages\\sklearn\\base.py\", line 666, in _validate_params\n",
      "    validate_parameter_constraints(\n",
      "  File \"c:\\Users\\mfm-8\\AppData\\Local\\Programs\\Python\\Python310\\lib\\site-packages\\sklearn\\utils\\_param_validation.py\", line 95, in validate_parameter_constraints\n",
      "    raise InvalidParameterError(\n",
      "sklearn.utils._param_validation.InvalidParameterError: The 'min_samples_split' parameter of DecisionTreeClassifier must be an int in the range [2, inf) or a float in the range (0.0, 1.0]. Got 1 instead.\n",
      "\n",
      "  warnings.warn(some_fits_failed_message, FitFailedWarning)\n",
      "c:\\Users\\mfm-8\\AppData\\Local\\Programs\\Python\\Python310\\lib\\site-packages\\sklearn\\model_selection\\_search.py:1052: UserWarning: One or more of the test scores are non-finite: [       nan 0.40309291 0.35730132        nan 0.40672275 0.36004081\n",
      "        nan 0.40672275 0.36004081]\n",
      "  warnings.warn(\n"
     ]
    },
    {
     "name": "stdout",
     "output_type": "stream",
     "text": [
      "Mejores parámetros para Decision Tree Classifier: {'max_depth': 15, 'min_samples_split': 2}\n",
      "Mejor score para Decision Tree Classifier: 0.4067227457690665\n",
      "Mejor modelo para Gradient Boosting: GradientBoostingClassifier(max_depth=5, n_estimators=50, random_state=42)\n",
      "Mejor modelo para Random Forest: RandomForestClassifier(max_depth=10, n_estimators=200, random_state=42)\n",
      "Mejor modelo para KNN: KNeighborsClassifier()\n",
      "Mejor modelo para Decision Tree Classifier: DecisionTreeClassifier(max_depth=15, random_state=42)\n"
     ]
    }
   ],
   "source": [
    "# Grid Search\n",
    "resultados = {}\n",
    "for nombre_modelo, modelo in modelos.items():\n",
    "    print(f\"Entrenando modelo: {nombre_modelo}\")\n",
    "    grid_search = GridSearchCV(estimator=modelo, param_grid=parametros[nombre_modelo], cv=3, n_jobs=-1, scoring='r2')\n",
    "    grid_search.fit(X_train, y_train)\n",
    "    print(f\"Mejores parámetros para {nombre_modelo}: {grid_search.best_params_}\")\n",
    "    print(f\"Mejor score para {nombre_modelo}: {grid_search.best_score_}\")\n",
    "    resultados[nombre_modelo] = grid_search.best_estimator_\n",
    "\n",
    "# Imprimir los mejores modelos y sus parámetros\n",
    "for nombre_modelo, mejor_modelo in resultados.items():\n",
    "    print(f\"Mejor modelo para {nombre_modelo}: {mejor_modelo}\")"
   ]
  },
  {
   "cell_type": "code",
   "execution_count": 61,
   "metadata": {},
   "outputs": [],
   "source": [
    "# Crear el modelo con los mejores parámetros encontrados\n",
    "modelo_seleccionado = GradientBoostingClassifier(max_depth=15, min_samples_leaf=2, random_state=42)\n",
    "\n",
    "# Ajustar el modelo a los datos de entrenamiento\n",
    "modelo_seleccionado.fit(X_train, y_train)\n",
    "\n",
    "# Realizar predicciones en el conjunto de prueba\n",
    "y_pred = modelo_seleccionado.predict(X_test)"
   ]
  },
  {
   "cell_type": "code",
   "execution_count": 73,
   "metadata": {},
   "outputs": [
    {
     "name": "stdout",
     "output_type": "stream",
     "text": [
      "              precision    recall  f1-score   support\n",
      "\n",
      "           0       0.00      0.00      0.00         0\n",
      "           1       0.00      0.00      0.00         0\n",
      "           2       1.00      0.67      0.80         9\n",
      "           3       0.77      0.81      0.79        21\n",
      "           4       0.00      0.00      0.00         2\n",
      "           5       0.92      0.79      0.85        14\n",
      "           6       0.61      0.58      0.59        19\n",
      "           7       0.87      0.83      0.85        24\n",
      "           8       0.71      0.87      0.78        23\n",
      "           9       1.00      0.88      0.94        17\n",
      "          10       0.57      0.80      0.67         5\n",
      "          11       1.00      0.62      0.77         8\n",
      "          12       0.88      0.84      0.86        25\n",
      "          13       0.79      0.94      0.86        16\n",
      "          14       0.69      0.90      0.78        10\n",
      "          15       0.62      0.56      0.59         9\n",
      "\n",
      "    accuracy                           0.79       202\n",
      "   macro avg       0.65      0.63      0.63       202\n",
      "weighted avg       0.80      0.79      0.79       202\n",
      "\n"
     ]
    },
    {
     "name": "stderr",
     "output_type": "stream",
     "text": [
      "c:\\Users\\mfm-8\\AppData\\Local\\Programs\\Python\\Python310\\lib\\site-packages\\sklearn\\metrics\\_classification.py:1517: UndefinedMetricWarning: Precision is ill-defined and being set to 0.0 in labels with no predicted samples. Use `zero_division` parameter to control this behavior.\n",
      "  _warn_prf(average, modifier, f\"{metric.capitalize()} is\", len(result))\n",
      "c:\\Users\\mfm-8\\AppData\\Local\\Programs\\Python\\Python310\\lib\\site-packages\\sklearn\\metrics\\_classification.py:1517: UndefinedMetricWarning: Recall is ill-defined and being set to 0.0 in labels with no true samples. Use `zero_division` parameter to control this behavior.\n",
      "  _warn_prf(average, modifier, f\"{metric.capitalize()} is\", len(result))\n",
      "c:\\Users\\mfm-8\\AppData\\Local\\Programs\\Python\\Python310\\lib\\site-packages\\sklearn\\metrics\\_classification.py:1517: UndefinedMetricWarning: F-score is ill-defined and being set to 0.0 in labels with no true nor predicted samples. Use `zero_division` parameter to control this behavior.\n",
      "  _warn_prf(average, modifier, f\"{metric.capitalize()} is\", len(result))\n",
      "c:\\Users\\mfm-8\\AppData\\Local\\Programs\\Python\\Python310\\lib\\site-packages\\sklearn\\metrics\\_classification.py:1517: UndefinedMetricWarning: Precision is ill-defined and being set to 0.0 in labels with no predicted samples. Use `zero_division` parameter to control this behavior.\n",
      "  _warn_prf(average, modifier, f\"{metric.capitalize()} is\", len(result))\n",
      "c:\\Users\\mfm-8\\AppData\\Local\\Programs\\Python\\Python310\\lib\\site-packages\\sklearn\\metrics\\_classification.py:1517: UndefinedMetricWarning: Recall is ill-defined and being set to 0.0 in labels with no true samples. Use `zero_division` parameter to control this behavior.\n",
      "  _warn_prf(average, modifier, f\"{metric.capitalize()} is\", len(result))\n",
      "c:\\Users\\mfm-8\\AppData\\Local\\Programs\\Python\\Python310\\lib\\site-packages\\sklearn\\metrics\\_classification.py:1517: UndefinedMetricWarning: F-score is ill-defined and being set to 0.0 in labels with no true nor predicted samples. Use `zero_division` parameter to control this behavior.\n",
      "  _warn_prf(average, modifier, f\"{metric.capitalize()} is\", len(result))\n",
      "c:\\Users\\mfm-8\\AppData\\Local\\Programs\\Python\\Python310\\lib\\site-packages\\sklearn\\metrics\\_classification.py:1517: UndefinedMetricWarning: Precision is ill-defined and being set to 0.0 in labels with no predicted samples. Use `zero_division` parameter to control this behavior.\n",
      "  _warn_prf(average, modifier, f\"{metric.capitalize()} is\", len(result))\n",
      "c:\\Users\\mfm-8\\AppData\\Local\\Programs\\Python\\Python310\\lib\\site-packages\\sklearn\\metrics\\_classification.py:1517: UndefinedMetricWarning: Recall is ill-defined and being set to 0.0 in labels with no true samples. Use `zero_division` parameter to control this behavior.\n",
      "  _warn_prf(average, modifier, f\"{metric.capitalize()} is\", len(result))\n",
      "c:\\Users\\mfm-8\\AppData\\Local\\Programs\\Python\\Python310\\lib\\site-packages\\sklearn\\metrics\\_classification.py:1517: UndefinedMetricWarning: F-score is ill-defined and being set to 0.0 in labels with no true nor predicted samples. Use `zero_division` parameter to control this behavior.\n",
      "  _warn_prf(average, modifier, f\"{metric.capitalize()} is\", len(result))\n"
     ]
    }
   ],
   "source": [
    "#  Tener classification report\n",
    "labels = np.arange(16)  # Reemplaza 16 con el número total de clases para que aparezcan 0 y 1 aunque no tengan instancias de esta label en test\n",
    "print(classification_report(y_test, y_pred, labels=labels))\n"
   ]
  },
  {
   "cell_type": "code",
   "execution_count": 69,
   "metadata": {},
   "outputs": [
    {
     "data": {
      "text/plain": [
       "<sklearn.metrics._plot.confusion_matrix.ConfusionMatrixDisplay at 0x19abf4c0070>"
      ]
     },
     "execution_count": 69,
     "metadata": {},
     "output_type": "execute_result"
    },
    {
     "data": {
      "image/png": "[encoded data removed]",
      "text/plain": [
       "<Figure size 640x480 with 2 Axes>"
      ]
     },
     "metadata": {},
     "output_type": "display_data"
    }
   ],
   "source": [
    "ConfusionMatrixDisplay.from_predictions(y_test, y_pred, normalize= \"pred\")"
   ]
  },
  {
   "cell_type": "code",
   "execution_count": null,
   "metadata": {},
   "outputs": [],
   "source": [
    "# Definir el directorio y la ruta del archivo\n",
    "models_dir = 'models'\n",
    "if not os.path.exists(models_dir):\n",
    "    os.makedirs(models_dir)\n",
    "\n",
    "results_file_path = os.path.join(models_dir, 'modelo.pkl')\n",
    "\n",
    "# Guardar el modelo en un archivo\n",
    "with open(results_file_path, 'wb') as file:\n",
    "    pickle.dump(modelo_seleccionado, file)\n",
    "\n",
    "print(f\"Modelo guardado en {results_file_path}\")"
   ]
  },
  {
   "cell_type": "code",
   "execution_count": 71,
   "metadata": {},
   "outputs": [
    {
     "name": "stdout",
     "output_type": "stream",
     "text": [
      "Modelo guardado en modelo_entrenado\\modelo.pkl\n"
     ]
    }
   ],
   "source": [
    "# Definir el directorio y la ruta del archivo\n",
    "models_dir = 'modelo_entrenado'\n",
    "if not os.path.exists(models_dir):\n",
    "    os.makedirs(models_dir)\n",
    "\n",
    "results_file_path = os.path.join(models_dir, 'modelo.pkl')\n",
    "\n",
    "# Guardar el modelo en un archivo\n",
    "with open(results_file_path, 'wb') as file:\n",
    "    pickle.dump(modelo_seleccionado, file)\n",
    "\n",
    "print(f\"Modelo guardado en {results_file_path}\")"
   ]
  }
 ],
 "metadata": {
  "kernelspec": {
   "display_name": "Python 3",
   "language": "python",
   "name": "python3"
  },
  "language_info": {
   "codemirror_mode": {
    "name": "ipython",
    "version": 3
   },
   "file_extension": ".py",
   "mimetype": "text/x-python",
   "name": "python",
   "nbconvert_exporter": "python",
   "pygments_lexer": "ipython3",
   "version": "3.10.11"
  }
 },
 "nbformat": 4,
 "nbformat_minor": 2
}
